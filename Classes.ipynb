{
 "cells": [
  {
   "cell_type": "markdown",
   "metadata": {},
   "source": [
    "Class properties and functionality(methods)"
   ]
  },
  {
   "cell_type": "code",
   "execution_count": null,
   "metadata": {},
   "outputs": [],
   "source": [
    "class Student:\n",
    "    def __init__(self, name, town) -> None:\n",
    "        self.name= name\n",
    "        self.town= town\n",
    "    def hello(self):\n",
    "        print(\"Hello\", self.name, self.town)\n",
    "    \n",
    "s1= Student(\"Vi\", \"Muranga\")\n",
    "print(s1.name,\",\", s1.town)\n",
    "s1.hello()\n"
   ]
  },
  {
   "cell_type": "markdown",
   "metadata": {},
   "source": [
    "Static methods"
   ]
  },
  {
   "cell_type": "code",
   "execution_count": null,
   "metadata": {},
   "outputs": [],
   "source": [
    "class mds_member:\n",
    "    role= \"MDS member\"\n",
    "    campus= \"UBC\"\n",
    "    def __init__(self, first, last) -> None:\n",
    "        self.first= first\n",
    "        self.last= last\n",
    "        self.email= first.lower()+last.lower()+\"@mds.com\"\n",
    "    def full_name(self):\n",
    "        return f\"{self.first} {self.last}\"\n",
    "    @staticmethod\n",
    "    def is_quizweek(week):\n",
    "        return True if week in [3,5] else False\n",
    "\n",
    "\n",
    "mds_1= mds_member(\"Varada\", \"Kolhatkar\")\n",
    "print(mds_1.full_name())\n",
    "print(mds_1.email)\n",
    "print(f\"{mds_1.first} is at campus {mds_1.campus}\")\n",
    "print(f\"Is week 1 a quiz week? {mds_1.is_quizweek(1)}\")\n",
    "\n"
   ]
  },
  {
   "cell_type": "markdown",
   "metadata": {},
   "source": [
    "Inheritance: Parent and Child classes"
   ]
  },
  {
   "cell_type": "code",
   "execution_count": null,
   "metadata": {},
   "outputs": [],
   "source": [
    "class Parent:\n",
    "    def __init__(self, name, gender, dob, eyecolour) -> None:\n",
    "        self.name= name\n",
    "        self.gender= gender\n",
    "        self.dob= dob\n",
    "        self.eyecolour= eyecolour\n",
    "\n",
    "class Child(Parent):\n",
    "    def __init__(self, name, gender, dob, eyecolour) -> None:\n",
    "        Parent.__init__(self, name, gender, dob, eyecolour)\n",
    "\n",
    "done= False\n",
    "while not done:\n",
    "    print(\"Menu\")\n",
    "    print(\"S- Start\")\n",
    "    print(\"Q- Quit\")\n",
    "    choice= input(\"Choice: \")\n",
    "    if choice== \"S\":\n",
    "        print(\"Start\")\n",
    "        print(\"Explore My Family Tree\")\n",
    "        mom= Parent(\"Mom\", \"Female\", 1962, \"green\")\n",
    "        dad= Parent(\"Dad\", \"Male\", 1957, \"brown\")\n",
    "        me= Child(\"Vi\", \"Female\", 1992, \"brown\")\n",
    "    elif choice== \"Q\":\n",
    "        print(\"Exiting Game!\")\n",
    "        done= True"
   ]
  },
  {
   "cell_type": "code",
   "execution_count": null,
   "metadata": {},
   "outputs": [],
   "source": [
    "def original_fun():\n",
    "    print(\"I'm the original function\")\n",
    "\n",
    "def my_decorator(original_fun):\n",
    "    def wrapper():\n",
    "        print(f\"A decoration before {original_fun.__name__}.\")\n",
    "        result= original_fun()\n",
    "        print(f\"A decoration after {original_fun.__name__}.\")\n",
    "        return result\n",
    "    return wrapper\n",
    "\n",
    "def another_fun():\n",
    "    print(\"I'm a different function\")\n",
    "\n",
    "@my_decorator\n",
    "def one_more_fun():\n",
    "    print(\"One more function\")\n",
    "    \n",
    "one_more_fun()\n",
    "my_decorator(another_fun)()\n",
    "\n"
   ]
  },
  {
   "cell_type": "markdown",
   "metadata": {},
   "source": [
    "More on OOP: Classes and instances"
   ]
  },
  {
   "cell_type": "code",
   "execution_count": null,
   "metadata": {},
   "outputs": [],
   "source": [
    "import datetime\n",
    "\n",
    "class Employee:\n",
    "\n",
    "    num_of_emps= 0\n",
    "    raise_amount= 1.04\n",
    "\n",
    "    def __init__(self, first, last, pay):\n",
    "        self.first= first\n",
    "        self.last= last\n",
    "        self.pay= pay\n",
    "        self.email= first+ '.'+ last+ '@company.com'\n",
    "\n",
    "        Employee.num_of_emps +=1\n",
    "\n",
    "    def fullname(self):\n",
    "        return '{} {}'.format(self.first, self.last)\n",
    "    \n",
    "    def apply_raise(self):\n",
    "        self.pay= int(self.pay * self.raise_amount)\n",
    "\n",
    "emp_1= Employee('Vi', 'Maina', 100000)\n",
    "emp_2= Employee('Test', 'User', 200000)\n",
    "\n",
    "print(emp_1.raise_amount)\n",
    "emp_1.apply_raise()\n",
    "print(Employee.raise_amount)\n",
    "\n",
    "print(emp_2.fullname())\n",
    "\n",
    "#Check namespace\n",
    "print(Employee.__dict__)\n",
    "\n",
    "#override class variable in instance namespace\n",
    "emp_1.raise_amount= 1.05\n",
    "print(emp_1.__dict__)\n",
    "\n",
    "print(Employee.raise_amount)\n",
    "print(emp_1.raise_amount)\n",
    "print(emp_2.raise_amount)\n",
    "\n",
    "print(Employee.num_of_emps)"
   ]
  },
  {
   "cell_type": "code",
   "execution_count": null,
   "metadata": {},
   "outputs": [],
   "source": [
    "#Class Methods vs Static Methods\n",
    "#Class methods utilize class as alternative constructor\n",
    "    @classmethod    \n",
    "    def from_string(cls, emp_str):\n",
    "        first, last, pay= emp_str.split('-')\n",
    "        return cls(first, last, pay)\n",
    "\n",
    "\n",
    "#Static methods define functionality without accessing the class \n",
    "    @staticmethod\n",
    "    def is_workday(day):\n",
    "        if day.weekday()== 5 or day.weekday()== 6:\n",
    "            return False\n",
    "        return True\n",
    "\n",
    "import datetime\n",
    "my_date= datetime.date(2023, 10, 20)\n",
    "\n",
    "print(Employee.is_workday(my_date))\n",
    "\n",
    "emp_str_1= 'Vi-Maina-100000'\n",
    "emp_str_2= 'Test-User-200000'\n",
    "\n",
    "new_emp_1= Employee.from_string(emp_str_1)\n",
    "\n",
    "print(new_emp_1.email)\n",
    "print(new_emp_1.fullname())\n",
    "\n",
    "\n"
   ]
  }
 ],
 "metadata": {
  "kernelspec": {
   "display_name": "Python 3",
   "language": "python",
   "name": "python3"
  },
  "language_info": {
   "codemirror_mode": {
    "name": "ipython",
    "version": 3
   },
   "file_extension": ".py",
   "mimetype": "text/x-python",
   "name": "python",
   "nbconvert_exporter": "python",
   "pygments_lexer": "ipython3",
   "version": "3.11.5"
  }
 },
 "nbformat": 4,
 "nbformat_minor": 2
}
