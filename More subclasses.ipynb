{
 "cells": [
  {
   "cell_type": "code",
   "execution_count": 9,
   "metadata": {},
   "outputs": [
    {
     "name": "stdout",
     "output_type": "stream",
     "text": [
      "Sue.Smith@company.com\n",
      "--> Vi Maina\n",
      "--> Test User\n",
      "True\n"
     ]
    }
   ],
   "source": [
    "class Employee:\n",
    "\n",
    "    raise_amt= 1.04\n",
    "\n",
    "    def __init__(self, first, last, pay):\n",
    "        self.first= first\n",
    "        self.last= last\n",
    "        self.pay= pay\n",
    "        self.email= first+ '.'+ last+ '@company.com'\n",
    "\n",
    "    def fullname(self):\n",
    "        return '{} {}'.format(self.first, self.last)\n",
    "    \n",
    "    def apply_raise(self):\n",
    "        self.pay= int(self.pay * self.raise_amt)\n",
    "\n",
    "class Developer(Employee):\n",
    "    raise_amt= 1.10\n",
    "\n",
    "    def __init__(self, first, last, pay, prog_lang):\n",
    "        super().__init__(first, last, pay)\n",
    "        self.prog_lang= prog_lang\n",
    "\n",
    "\n",
    "class Manager(Employee):\n",
    "    def __init__(self, first, last, pay, employees= None):\n",
    "        super().__init__(first, last, pay)\n",
    "        if employees is None:\n",
    "            self.employees= []\n",
    "        else:\n",
    "            self.employees= employees\n",
    "\n",
    "\n",
    "    def add_emp(self, emp):\n",
    "        if emp not in self.employees:\n",
    "            self.employees.append(emp)\n",
    "\n",
    "    def remove_emp(self, emp):\n",
    "        if emp is self.employees:\n",
    "            self.employees.remove(emp)\n",
    "\n",
    "    def print_emp(self):\n",
    "        for emp in self.employees:\n",
    "            print('-->', emp.fullname())\n",
    "\n",
    "\n",
    "dev_1= Developer('Vi', 'Maina', 100000, \"Python\")\n",
    "dev_2= Developer('Test', 'User', 200000, 'Java')\n",
    "\n",
    "mgr_1= Manager('Sue', 'Smith', 60000, [dev_1])\n",
    "# mgr_2= Developer('Test', 'User', 200000, 'Java')\n",
    "\n",
    "\n",
    "print(mgr_1.email)\n",
    "\n",
    "mgr_1.add_emp(dev_2)\n",
    "mgr_1.print_emp()\n",
    "mgr_1.remove_emp(dev_2)\n",
    "\n",
    "print(issubclass(Manager, Employee))\n",
    "print(dev_1.email)\n",
    "dev_1.apply_raise()\n",
    "print(dev_1.prog_lang)"
   ]
  },
  {
   "cell_type": "code",
   "execution_count": 20,
   "metadata": {},
   "outputs": [
    {
     "name": "stdout",
     "output_type": "stream",
     "text": [
      "Vi Maina- Vi.Maina@company.com\n"
     ]
    }
   ],
   "source": [
    "class Employee:\n",
    "\n",
    "    raise_amt= 1.04\n",
    "\n",
    "    def __init__(self, first, last, pay):\n",
    "        self.first= first\n",
    "        self.last= last\n",
    "        self.pay= pay\n",
    "        self.email= first+ '.'+ last+ '@company.com'\n",
    "\n",
    "    def fullname(self):\n",
    "        return '{} {}'.format(self.first, self.last)\n",
    "    \n",
    "    def apply_raise(self):\n",
    "        self.pay= int(self.pay * self.raise_amt)\n",
    "\n",
    "    def __repr__(self) -> str:\n",
    "        return \"Employee('{}','{}', {})\".format(self.first, self.last, self.pay) \n",
    "    \n",
    "    def __str__(self):\n",
    "        return '{}- {}'.format(self.fullname(), self.email)\n",
    "\n",
    "emp_1= Employee('Vi', 'Maina', 100000)\n",
    "emp_2= Employee('Test', 'User', 200000) \n",
    "\n",
    "# print(repr(emp_1))\n",
    "# print(str(emp_1))\n",
    "print(emp_1)"
   ]
  }
 ],
 "metadata": {
  "kernelspec": {
   "display_name": "Python 3",
   "language": "python",
   "name": "python3"
  },
  "language_info": {
   "codemirror_mode": {
    "name": "ipython",
    "version": 3
   },
   "file_extension": ".py",
   "mimetype": "text/x-python",
   "name": "python",
   "nbconvert_exporter": "python",
   "pygments_lexer": "ipython3",
   "version": "3.11.5"
  }
 },
 "nbformat": 4,
 "nbformat_minor": 2
}
