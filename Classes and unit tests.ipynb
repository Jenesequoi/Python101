{
 "cells": [
  {
   "cell_type": "markdown",
   "metadata": {},
   "source": [
    "ChatGPT Test Questions"
   ]
  },
  {
   "cell_type": "code",
   "execution_count": 3,
   "metadata": {},
   "outputs": [
    {
     "name": "stdout",
     "output_type": "stream",
     "text": [
      "The balance for John Doe is $1300.00\n"
     ]
    }
   ],
   "source": [
    "class Bank_Acc:\n",
    "    def __init__(self, account_holder, initial_balance) -> None:\n",
    "       self.account_holder = account_holder\n",
    "       self.balance = initial_balance\n",
    "\n",
    "\n",
    "    def deposit(self, amount):\n",
    "        self.balance += amount\n",
    "    def withdraw(self, amount):\n",
    "        self.balance -= amount\n",
    "    def get_balance(self):\n",
    "\n",
    "        print(f\"The balance for {self.account_holder} is ${self.balance:.2f}\")\n",
    "\n",
    "\n",
    "Acc1 = Bank_Acc('John Doe', 1000.0)\n",
    "\n",
    "Depo = Acc1.deposit(500)\n",
    "\n",
    "Withdrew = Acc1.withdraw(200.0)\n",
    "\n",
    "Bank_Acc.get_balance(Acc1)"
   ]
  },
  {
   "cell_type": "code",
   "execution_count": 10,
   "metadata": {},
   "outputs": [
    {
     "name": "stdout",
     "output_type": "stream",
     "text": [
      "Hello Alice\n",
      "Hello Bob\n"
     ]
    }
   ],
   "source": [
    "class Person:\n",
    "    def __init__(self, name, age) -> None:\n",
    "        self.name = name\n",
    "        self.age = age\n",
    "\n",
    "    def greet(self):\n",
    "        print(f\"Hello {self.name}\")\n",
    "\n",
    "\n",
    "person1 = Person(\"Alice\", 25)\n",
    "person2 = Person(\"Bob\", 30)\n",
    "\n",
    "person1.greet()\n",
    "person2.greet()"
   ]
  },
  {
   "cell_type": "code",
   "execution_count": 43,
   "metadata": {},
   "outputs": [
    {
     "name": "stdout",
     "output_type": "stream",
     "text": [
      "29.0\n"
     ]
    }
   ],
   "source": [
    "class Person:\n",
    "    def __init__(self, name, age) -> None:\n",
    "        self.name = name\n",
    "        self.age = age\n",
    "        self.friends = []\n",
    "\n",
    "    def greet(self):\n",
    "        print(f\"Hello {self.name}\")\n",
    "\n",
    "    def add_friend(self, friend):\n",
    "        self.friends.append(friend)\n",
    "\n",
    "    def avg_friend_age(self):\n",
    "        total_age =  sum(friend.age for friend in self.friends)\n",
    "        return total_age/ len(self.friends)\n",
    "\n",
    "\n",
    "person1 = Person(\"Alice\", 25)\n",
    "person2 = Person(\"Bob\", 30)\n",
    "person3 = Person(\"Charlie\", 28)\n",
    "\n",
    "person1.add_friend(person2)\n",
    "person1.add_friend(person3)\n",
    "\n",
    "#print([friend.name for friend in person1.friends])\n",
    "\n",
    "print(person1.avg_friend_age())"
   ]
  },
  {
   "cell_type": "code",
   "execution_count": 57,
   "metadata": {},
   "outputs": [],
   "source": [
    "class Library:\n",
    "    def __init__(self, title, author) -> None:\n",
    "        self.title = title\n",
    "        self.author = author\n",
    "        self.available = True\n",
    "        self.books = []\n",
    "\n",
    "\n",
    "    def add_book(self, book):\n",
    "        self.books.append()\n",
    "\n",
    "    def checkout_book(self, status):\n",
    "        self.available = False\n",
    "    def return_book(self, available):\n",
    "        self.available = available\n",
    "\n",
    "    def list_books(self):\n",
    "        print([self.books])\n",
    "\n",
    "book1 = (\"The Great Gatsby\", \"F. Scott Fitzgerald\")\n",
    "book2 = (\"To Kill a Mockingbird\", \"Harper Lee\")\n",
    "book3 = (\"1984\", \"George Orwell\")\n",
    "book4 = (\"The Catcher in the Rye\", \"J.D Salinger\")\n",
    "\n",
    "\n",
    "        \n",
    "    "
   ]
  },
  {
   "cell_type": "code",
   "execution_count": 1,
   "metadata": {},
   "outputs": [],
   "source": [
    "import math"
   ]
  },
  {
   "cell_type": "code",
   "execution_count": 12,
   "metadata": {},
   "outputs": [],
   "source": [
    "def area(radius):\n",
    "    return math.pi * radius ** 2\n",
    "\n",
    "\n",
    "assert isinstance(area(1), float), \"Test 1 failed!\"\n",
    "assert area(0) == 0, \"Test 2 failed!\"\n",
    "assert math.isclose(area(5), 78.5, abs_tol=0.1), \"Test 3 failed.\" \n"
   ]
  },
  {
   "cell_type": "markdown",
   "metadata": {},
   "source": [
    "EAFP"
   ]
  },
  {
   "cell_type": "code",
   "execution_count": 17,
   "metadata": {},
   "outputs": [
    {
     "name": "stdout",
     "output_type": "stream",
     "text": [
      "Enter integer\n"
     ]
    }
   ],
   "source": [
    "def area(x):\n",
    "    try:\n",
    "        return math.pi * x ** 2\n",
    "    except TypeError:\n",
    "        print(f\"Enter integer\")\n",
    "    # except:\n",
    "    #     print(\"Some other error occurred\")\n",
    "        \n",
    "area('10')"
   ]
  },
  {
   "cell_type": "code",
   "execution_count": 22,
   "metadata": {},
   "outputs": [
    {
     "name": "stdout",
     "output_type": "stream",
     "text": [
      "radius should be a number\n"
     ]
    }
   ],
   "source": [
    "def area(x):\n",
    "    if isinstance('x', (int,float)):\n",
    "        return math.pi * x ** 2\n",
    "    else: \n",
    "        print(TypeError(f\"radius should be a number\"))\n",
    "\n",
    "area('10')\n",
    "\n"
   ]
  },
  {
   "cell_type": "code",
   "execution_count": 14,
   "metadata": {},
   "outputs": [],
   "source": [
    "class Circle:\n",
    "    def __init__(self, radius) -> None:\n",
    "        self.radius = radius\n",
    "\n",
    "    def area(self):\n",
    "        return math.pi * self.radius ** 2\n",
    "    def circumference(self):\n",
    "        return math.pi * self.radius * 2\n",
    "    def __str__(self) -> str:\n",
    "        return f\"A Circle with radius {self.radius}\"\n",
    "\n",
    "assert Circle(3).radius == 3, \"Test 1 failed\"\n",
    "assert math.isclose(Circle(3).area(), 28.3, abs_tol=0.1), \"Test 2 failed\"\n",
    "assert math.isclose(Circle(3).circumference(), 18.8, abs_tol=0.1), \"Test 3 failed\"\n",
    "assert str(Circle(3)) == 'A Circle with radius 3', \"Test 4 failed\""
   ]
  },
  {
   "cell_type": "code",
   "execution_count": 12,
   "metadata": {},
   "outputs": [],
   "source": [
    "class Sphere:\n",
    "\n",
    "    \"\"\"A sphere with radius r\"\"\"\n",
    "\n",
    "    def __init__(self, radius) -> None:\n",
    "        self.radius = radius\n",
    "    \n",
    "\n",
    "    def volume(self):\n",
    "        return 4/3 * math.pi * (self.radius ** 3)\n",
    "    def __str__(self) -> str:\n",
    "        return f\"A Sphere with volume {self.volume():.2f}\"\n",
    "\n",
    "assert Sphere(3).radius == 3, \"Test 1 failed.\"\n",
    "# assert math.isclose(Sphere(3).area(), 28.3, abs_tol=0.1), \"Test 2 failed.\"\n",
    "# assert math.isclose(Sphere(3).circumference(), 18.8, abs_tol=0.1), \"Test 3 failed.\"\n",
    "assert math.isclose(Sphere(3).volume(), 113.1, abs_tol=0.1), \"Test 3 failed.\"\n",
    "assert Sphere(1).__str__() == \"A Sphere with volume 4.19\", \"Test 4 failed.\""
   ]
  },
  {
   "cell_type": "code",
   "execution_count": 8,
   "metadata": {},
   "outputs": [],
   "source": [
    "class Sphere:\n",
    "    def __init__(self, radius) -> None:\n",
    "        self.radius = radius\n",
    "    \n",
    "    @classmethod\n",
    "    def from_circ(cls, circumference):\n",
    "        radius = circumference / (2 * math.pi)\n",
    "        return cls(radius)\n",
    "    \n",
    "    def volume(self):\n",
    "        return 4/3 * math.pi * (self.radius ** 3)\n",
    "    def __str__(self) -> str:\n",
    "        return f\"A Sphere with volume {self.volume():.2f}\"\n",
    "\n",
    "assert Sphere.from_circ(0).radius == 0, \"Test 1 failed.\"\n",
    "assert Sphere.from_circ(3 * math.pi).radius == 1.5, \"Test 2 failed\"\n",
    "assert math.isclose(Sphere.from_circ(6).radius, 0.95, abs_tol=0.1), \"Test 3 failed.\"\n",
    "assert math.isclose(Sphere.from_circ(6).volume(), 3.65, abs_tol=0.1), \"Test 4 failed.\"\n",
    "assert str(Sphere.from_circ(6)) == \"A Sphere with volume 3.65\", \"Test 5 failed.\""
   ]
  }
 ],
 "metadata": {
  "kernelspec": {
   "display_name": "Python 3",
   "language": "python",
   "name": "python3"
  },
  "language_info": {
   "codemirror_mode": {
    "name": "ipython",
    "version": 3
   },
   "file_extension": ".py",
   "mimetype": "text/x-python",
   "name": "python",
   "nbconvert_exporter": "python",
   "pygments_lexer": "ipython3",
   "version": "3.11.5"
  }
 },
 "nbformat": 4,
 "nbformat_minor": 2
}
