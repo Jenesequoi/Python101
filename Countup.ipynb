{
 "cells": [
  {
   "cell_type": "markdown",
   "metadata": {},
   "source": [
    "1.Using a while loop, print numbers from 1 to 10."
   ]
  },
  {
   "cell_type": "code",
   "execution_count": null,
   "metadata": {},
   "outputs": [],
   "source": [
    "x= 1\n",
    "while x<= 10:\n",
    "    print(x)\n",
    "    x+=1"
   ]
  },
  {
   "cell_type": "markdown",
   "metadata": {},
   "source": [
    "2.Ask the user what town they live in.  Using a while loop, print the name of their town 4 times."
   ]
  },
  {
   "cell_type": "code",
   "execution_count": null,
   "metadata": {},
   "outputs": [],
   "source": [
    "x=1\n",
    "answer= str(input(\"What town do you live in? \"))\n",
    "while x<=4:\n",
    "    print(answer)\n",
    "    x+=1"
   ]
  },
  {
   "cell_type": "markdown",
   "metadata": {},
   "source": [
    "3.Using a while loop, print the powers of 2 from 2^0 to 2^9."
   ]
  },
  {
   "cell_type": "code",
   "execution_count": null,
   "metadata": {},
   "outputs": [],
   "source": [
    "x=0\n",
    "while x<=9:\n",
    "    print(2**x)\n",
    "    x+=1"
   ]
  },
  {
   "cell_type": "markdown",
   "metadata": {},
   "source": [
    "4.Using a while loop, print even numbers from 0 to 100."
   ]
  },
  {
   "cell_type": "code",
   "execution_count": null,
   "metadata": {},
   "outputs": [],
   "source": [
    "x= 0\n",
    "while x<=100:\n",
    "    print(x)\n",
    "    x+=2"
   ]
  },
  {
   "cell_type": "markdown",
   "metadata": {},
   "source": [
    "5.Using a while loop, print the sum of the first 100 numbers. (1 + 2 + 3 + ... + 100)\n"
   ]
  },
  {
   "cell_type": "code",
   "execution_count": null,
   "metadata": {},
   "outputs": [],
   "source": [
    "x= 0\n",
    "count= 1\n",
    "while count<=100:\n",
    "    x+=count\n",
    "    count+=1\n",
    "print(\"Sum\", x)"
   ]
  },
  {
   "cell_type": "markdown",
   "metadata": {},
   "source": [
    "6.You work for five days.  Using a while loop, ask the user how much money they make each day. Print how much money they have after five days.\n"
   ]
  },
  {
   "cell_type": "code",
   "execution_count": null,
   "metadata": {},
   "outputs": [],
   "source": [
    "x=1\n",
    "total=0\n",
    "money= int(input(\"How much money? \"))\n",
    "while x<=5:\n",
    "    money= int(input(\"How much money?\"))\n",
    "    x+=1\n",
    "    total= total+money\n",
    "print(\"Total\", total)"
   ]
  },
  {
   "cell_type": "markdown",
   "metadata": {},
   "source": [
    "7.First, ask the user for their name.  Second, ask the user how many times they want to print their name.  Using a while loop, print the user's name the number of times they specified."
   ]
  },
  {
   "cell_type": "code",
   "execution_count": null,
   "metadata": {},
   "outputs": [],
   "source": [
    "name=str(input(\"What is your name? \"))\n",
    "#ask for number\n",
    "x=int(input(\"How many times do you want to print name? \"))\n",
    "#initiate counter\n",
    "namecount=1\n",
    "#initiate while loop\n",
    "while namecount<=x:\n",
    "    namecount+=1\n",
    "    print(name)"
   ]
  },
  {
   "cell_type": "markdown",
   "metadata": {},
   "source": [
    "8.Ask the user for a number.  Using a while loop, print the squares from 1 to this number.\n"
   ]
  },
  {
   "cell_type": "code",
   "execution_count": null,
   "metadata": {},
   "outputs": [],
   "source": [
    "x= int(input(\"Enter number: \"))\n",
    "i= 1\n",
    "while i<= x:\n",
    "    square= i*i\n",
    "    print(f\"The square of {i} is {square}\")\n",
    "    i+=1"
   ]
  },
  {
   "cell_type": "markdown",
   "metadata": {},
   "source": [
    "9.Ask the user for two numbers, a and b. Print the sum of all the numbers between a and b (inclusive).\n"
   ]
  },
  {
   "cell_type": "code",
   "execution_count": null,
   "metadata": {},
   "outputs": [],
   "source": [
    "a= int(input(\"Enter number a: \"))\n",
    "b= int(input(\"Enter number b: \"))\n",
    "sum= 0\n",
    "if a> b:\n",
    "    a,b= b,a\n",
    "start= a\n",
    "while start<= b:\n",
    "    sum+= start\n",
    "    start+=1\n",
    "print(f\"The sum between {a} and {b} is, {sum}\")"
   ]
  },
  {
   "cell_type": "markdown",
   "metadata": {},
   "source": [
    "10.Ask the user for two numbers, a and b.  Using a while loop, print the odd numbers between a and b (inclusive).  How do you figure out if a number is even or odd?"
   ]
  },
  {
   "cell_type": "code",
   "execution_count": null,
   "metadata": {},
   "outputs": [],
   "source": [
    "a= int(input(\"Enter number a: \"))\n",
    "b= int(input(\"Enter number b: \"))\n",
    "print(\"The odd numbers between\", a, \"and\", b, \"are: \")\n",
    "if a>b:\n",
    "    a,b=b,a\n",
    "start= a  \n",
    "while start<=b:\n",
    "    if start%2 !=0:\n",
    "        print(start)\n",
    "    start+=1\n",
    "    \n"
   ]
  },
  {
   "cell_type": "markdown",
   "metadata": {},
   "source": [
    "11.Ask the user for two numbers, a and b.  Using a while loop, print the sum of the odd numbers between a and b (inclusive)."
   ]
  },
  {
   "cell_type": "code",
   "execution_count": null,
   "metadata": {},
   "outputs": [],
   "source": [
    "a= int(input(\"Enter number a: \"))\n",
    "b= int(input(\"Enter number b: \"))\n",
    "odd_sum= 0\n",
    "if a>b:\n",
    "    a,b=b,a\n",
    "start =a\n",
    "while start<=b:\n",
    "    if start%2 !=0:\n",
    "        odd_sum+= start\n",
    "    start+= 1\n",
    "\n",
    "print(\"The sum of odd numbers between\", a, \"and\", b, \"is: \", odd_sum)\n"
   ]
  },
  {
   "cell_type": "markdown",
   "metadata": {},
   "source": [
    "12.You put $10,000 into a bank account that earns 5% interest per year.  The interest formula is: A=P(1+r)^t\n",
    "a.Print the balance per year until the time in years."
   ]
  },
  {
   "cell_type": "code",
   "execution_count": 1,
   "metadata": {},
   "outputs": [
    {
     "name": "stdout",
     "output_type": "stream",
     "text": [
      "Amount per year is: \n",
      "0 10000.0\n",
      "1 10500.0\n",
      "2 11025.0\n",
      "3 11576.250000000002\n",
      "4 12155.062500000002\n",
      "5 12762.815625000003\n",
      "6 13400.956406250005\n",
      "7 14071.004226562505\n",
      "8 14774.55443789063\n"
     ]
    }
   ],
   "source": [
    "p= 10000\n",
    "r= 0.05\n",
    "count= 0\n",
    "t= int(input(\"Enter number of years: \"))\n",
    "def calculate_amount(p,r,t):\n",
    "    balance= p*(1+r)**t\n",
    "    return balance\n",
    "print(\"Amount per year is: \")\n",
    "while count<= t:\n",
    "    balance= calculate_amount(p,r,count)\n",
    "    print(count, balance)\n",
    "    count+=1\n",
    "\n",
    "    \n"
   ]
  },
  {
   "cell_type": "markdown",
   "metadata": {},
   "source": [
    "b.How many years will it take for the account balance to double the original investment? Estimate this by inputting different amounts of time."
   ]
  },
  {
   "cell_type": "code",
   "execution_count": 2,
   "metadata": {},
   "outputs": [
    {
     "name": "stdout",
     "output_type": "stream",
     "text": [
      "It would take: \n",
      "12 years to double 10000 to 17958.5632602213\n",
      "13 years to double 10000 to 18856.491423232368\n",
      "14 years to double 10000 to 19799.315994393986\n",
      "15 years to double 10000 to 20789.28179411369\n"
     ]
    }
   ],
   "source": [
    "t= int(input(\"Enter number of years: \"))\n",
    "print(\"It would take: \")\n",
    "while balance<= 2*p:\n",
    "    balance= calculate_amount(p,r,t)\n",
    "    print(t, balance)\n",
    "    t+=1\n"
   ]
  },
  {
   "cell_type": "markdown",
   "metadata": {},
   "source": [
    "c.How many years does it take to triple?"
   ]
  },
  {
   "cell_type": "code",
   "execution_count": 3,
   "metadata": {},
   "outputs": [
    {
     "name": "stdout",
     "output_type": "stream",
     "text": [
      "It would take: \n",
      "22 years to triple 10000 to 29252.60719921726\n",
      "23 years to triple 10000 to 30715.237559178124\n"
     ]
    }
   ],
   "source": [
    "t= int(input(\"Enter number of years: \"))\n",
    "print(\"It would take: \")\n",
    "\n",
    "while balance<= 3*p:\n",
    "    balance= calculate_amount(p,r,t)\n",
    "    print(t, balance)\n",
    "    t+=1\n"
   ]
  }
 ],
 "metadata": {
  "kernelspec": {
   "display_name": "Python 3",
   "language": "python",
   "name": "python3"
  },
  "language_info": {
   "codemirror_mode": {
    "name": "ipython",
    "version": 3
   },
   "file_extension": ".py",
   "mimetype": "text/x-python",
   "name": "python",
   "nbconvert_exporter": "python",
   "pygments_lexer": "ipython3",
   "version": "3.11.5"
  }
 },
 "nbformat": 4,
 "nbformat_minor": 2
}
